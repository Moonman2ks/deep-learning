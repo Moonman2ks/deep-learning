{
 "cells": [
  {
   "cell_type": "markdown",
   "metadata": {},
   "source": [
    "# Exxon Mobil Corporation\n",
    "\n",
    "### Stock prediction with deep learning\n",
    "\n",
    "<br/> Gytis Kazlauskis KT-8/2\n",
    "<br/> email: gytis.ka8869@gmail.com"
   ]
  },
  {
   "cell_type": "markdown",
   "metadata": {},
   "source": [
    "<img src=\"http://jumpvine.net/wp-content/uploads/Steps-to-Creating-Company-Culture-e1508926692787.jpg\" width=\"800\" align=\"left\"/>"
   ]
  },
  {
   "cell_type": "markdown",
   "metadata": {},
   "source": [
    "\n",
    "<br/><b>1. Data loading and pre-processing</b>\n",
    "<br/>1.1 Importing the main libraries\n",
    "<br/>1.2 Importing the dataset\n",
    "<br/>1.3 Feature scaling\n",
    "<br/>1.4 Splitting the training set to dependent and independent variables\n",
    "<br/>1.5 Reshaping the matrix\n",
    "<br/><b>2. Building the RNN</b>\n",
    "<br/>2.1 RNN initialization\n",
    "<br/>2.2 Adding the first layer\n",
    "<br/>2.3 Adding 5 more layers\n",
    "<br/>2.4 Adding the output layer & compiling\n",
    "<br/><b>3. Train and deploy the RNN</b>\n",
    "<br/>3.1 Fit the RNN to the Training set\n",
    "<br/>3.2 Computing Predictions\n",
    "<br/>3.3 Result visualization\n"
   ]
  },
  {
   "cell_type": "markdown",
   "metadata": {},
   "source": [
    "<img src=\"data:image/jpeg;base64,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\" width=\"800\" align=\"left\"/>"
   ]
  },
  {
   "cell_type": "markdown",
   "metadata": {},
   "source": [
    "Given a 10-year history of the Exxon Mobil prices predict the stock values for the period of the recent most month that are not included in the historical data."
   ]
  },
  {
   "cell_type": "markdown",
   "metadata": {},
   "source": [
    "## Data loading and pre-processing"
   ]
  },
  {
   "cell_type": "markdown",
   "metadata": {},
   "source": [
    "### Importing the main libraries\n",
    "\n",
    "- [Numpy](http://www.numpy.org): library for the Python programming language\n",
    "- [matplotlib](https://matplotlib.org): a plotting library for the Python programming language and its numerical mathematics extension NumPy.\n",
    "- [pandas](https://pandas.pydata.org): software library written for the Python programming language for data manipulation and analysis."
   ]
  },
  {
   "cell_type": "code",
   "execution_count": 1,
   "metadata": {},
   "outputs": [],
   "source": [
    "# importing the 3 main libraries\n",
    "import numpy as np\n",
    "import matplotlib.pyplot as plt\n",
    "import pandas as pd"
   ]
  },
  {
   "cell_type": "markdown",
   "metadata": {},
   "source": [
    "### Import the dataset"
   ]
  },
  {
   "attachments": {},
   "cell_type": "markdown",
   "metadata": {},
   "source": [
    "Dataset description: the open high, low and close values of the Exxon Mobil from August 1st 2009 to July 31st 2019.\n"
   ]
  },
  {
   "cell_type": "code",
   "execution_count": 2,
   "metadata": {},
   "outputs": [],
   "source": [
    "#importing the dataset\n",
    "\n",
    "# load the file contents \n",
    "dataset_train = pd.read_csv('dataset_train.csv')"
   ]
  },
  {
   "cell_type": "code",
   "execution_count": 3,
   "metadata": {},
   "outputs": [
    {
     "data": {
      "text/html": [
       "<div>\n",
       "<style scoped>\n",
       "    .dataframe tbody tr th:only-of-type {\n",
       "        vertical-align: middle;\n",
       "    }\n",
       "\n",
       "    .dataframe tbody tr th {\n",
       "        vertical-align: top;\n",
       "    }\n",
       "\n",
       "    .dataframe thead th {\n",
       "        text-align: right;\n",
       "    }\n",
       "</style>\n",
       "<table border=\"1\" class=\"dataframe\">\n",
       "  <thead>\n",
       "    <tr style=\"text-align: right;\">\n",
       "      <th></th>\n",
       "      <th>Date</th>\n",
       "      <th>Open</th>\n",
       "      <th>High</th>\n",
       "      <th>Low</th>\n",
       "      <th>Close</th>\n",
       "      <th>Adj Close</th>\n",
       "      <th>Volume</th>\n",
       "    </tr>\n",
       "  </thead>\n",
       "  <tbody>\n",
       "    <tr>\n",
       "      <td>0</td>\n",
       "      <td>2009-08-03</td>\n",
       "      <td>70.959999</td>\n",
       "      <td>71.400002</td>\n",
       "      <td>70.300003</td>\n",
       "      <td>70.650002</td>\n",
       "      <td>51.141487</td>\n",
       "      <td>24756800</td>\n",
       "    </tr>\n",
       "    <tr>\n",
       "      <td>1</td>\n",
       "      <td>2009-08-04</td>\n",
       "      <td>70.250000</td>\n",
       "      <td>70.639999</td>\n",
       "      <td>70.000000</td>\n",
       "      <td>70.599998</td>\n",
       "      <td>51.105297</td>\n",
       "      <td>18612000</td>\n",
       "    </tr>\n",
       "    <tr>\n",
       "      <td>2</td>\n",
       "      <td>2009-08-05</td>\n",
       "      <td>70.480003</td>\n",
       "      <td>70.489998</td>\n",
       "      <td>69.610001</td>\n",
       "      <td>70.029999</td>\n",
       "      <td>50.692692</td>\n",
       "      <td>20348800</td>\n",
       "    </tr>\n",
       "    <tr>\n",
       "      <td>3</td>\n",
       "      <td>2009-08-06</td>\n",
       "      <td>70.010002</td>\n",
       "      <td>70.029999</td>\n",
       "      <td>69.410004</td>\n",
       "      <td>69.730003</td>\n",
       "      <td>50.475525</td>\n",
       "      <td>17369900</td>\n",
       "    </tr>\n",
       "    <tr>\n",
       "      <td>4</td>\n",
       "      <td>2009-08-07</td>\n",
       "      <td>70.010002</td>\n",
       "      <td>70.389999</td>\n",
       "      <td>69.349998</td>\n",
       "      <td>69.470001</td>\n",
       "      <td>50.287315</td>\n",
       "      <td>18041800</td>\n",
       "    </tr>\n",
       "  </tbody>\n",
       "</table>\n",
       "</div>"
      ],
      "text/plain": [
       "         Date       Open       High        Low      Close  Adj Close    Volume\n",
       "0  2009-08-03  70.959999  71.400002  70.300003  70.650002  51.141487  24756800\n",
       "1  2009-08-04  70.250000  70.639999  70.000000  70.599998  51.105297  18612000\n",
       "2  2009-08-05  70.480003  70.489998  69.610001  70.029999  50.692692  20348800\n",
       "3  2009-08-06  70.010002  70.029999  69.410004  69.730003  50.475525  17369900\n",
       "4  2009-08-07  70.010002  70.389999  69.349998  69.470001  50.287315  18041800"
      ]
     },
     "execution_count": 3,
     "metadata": {},
     "output_type": "execute_result"
    }
   ],
   "source": [
    "# Displaying the head of the trainset\n",
    "dataset_train.head()"
   ]
  },
  {
   "cell_type": "code",
   "execution_count": 4,
   "metadata": {},
   "outputs": [],
   "source": [
    "# Created a subtable of relevant entries (open values)\n",
    "training_set = dataset_train.iloc[:, 1:2].values "
   ]
  },
  {
   "cell_type": "code",
   "execution_count": 5,
   "metadata": {},
   "outputs": [
    {
     "data": {
      "text/plain": [
       "array([[70.959999],\n",
       "       [70.25    ],\n",
       "       [70.480003],\n",
       "       ...,\n",
       "       [74.879997],\n",
       "       [75.059998],\n",
       "       [75.040001]])"
      ]
     },
     "execution_count": 5,
     "metadata": {},
     "output_type": "execute_result"
    }
   ],
   "source": [
    "# Displaying the training_set array\n",
    "training_set"
   ]
  },
  {
   "cell_type": "markdown",
   "metadata": {},
   "source": [
    "### Feature Scaling\n",
    "\n",
    "The next step is to rescale our data to the range from 0 to 1 using the min-max normalization"
   ]
  },
  {
   "cell_type": "code",
   "execution_count": 6,
   "metadata": {},
   "outputs": [],
   "source": [
    "# Feature Scaling\n",
    "\n",
    "# import the MinMaxScaler\n",
    "from sklearn.preprocessing import MinMaxScaler"
   ]
  },
  {
   "cell_type": "code",
   "execution_count": 7,
   "metadata": {},
   "outputs": [],
   "source": [
    "# create a scaler instance to rescale all data to the range of 0.0 to 1.0 \n",
    "sc = MinMaxScaler(feature_range = (0, 1))"
   ]
  },
  {
   "cell_type": "code",
   "execution_count": 8,
   "metadata": {},
   "outputs": [],
   "source": [
    "# create the actual training set of scaled values\n",
    "training_set_scaled = sc.fit_transform(training_set)"
   ]
  },
  {
   "cell_type": "code",
   "execution_count": 9,
   "metadata": {},
   "outputs": [
    {
     "data": {
      "text/plain": [
       "array([[0.29661554],\n",
       "       [0.28169018],\n",
       "       [0.28652523],\n",
       "       ...,\n",
       "       [0.37902037],\n",
       "       [0.38280429],\n",
       "       [0.38238392]])"
      ]
     },
     "execution_count": 9,
     "metadata": {},
     "output_type": "execute_result"
    }
   ],
   "source": [
    "# Displaying the training_set_scaled\n",
    "training_set_scaled"
   ]
  },
  {
   "cell_type": "markdown",
   "metadata": {},
   "source": [
    "### Splitting the training set to dependent and independent variables\n",
    "Importing data from different sources is fundamental to data science and machine learning. The abundance of good quality data not only eliminates a lot of pre-processing steps but also determines how likely your model is going to succeed in predicting plausible outcomes."
   ]
  },
  {
   "cell_type": "code",
   "execution_count": 10,
   "metadata": {},
   "outputs": [],
   "source": [
    "# History term 90 days\n",
    "# This data structure will be filled with data from last 90 days before today.\n",
    "X_train = [] "
   ]
  },
  {
   "cell_type": "code",
   "execution_count": 11,
   "metadata": {},
   "outputs": [
    {
     "data": {
      "text/plain": [
       "(2516, 1)"
      ]
     },
     "execution_count": 11,
     "metadata": {},
     "output_type": "execute_result"
    }
   ],
   "source": [
    "# Displaying the ammount of rows and cells of the scaled training set\n",
    "training_set_scaled.shape"
   ]
  },
  {
   "cell_type": "code",
   "execution_count": 12,
   "metadata": {},
   "outputs": [],
   "source": [
    "# the stock price today\n",
    "y_train = [] "
   ]
  },
  {
   "cell_type": "code",
   "execution_count": 13,
   "metadata": {},
   "outputs": [],
   "source": [
    "# we start from day 90 because that is the first instance allowing us to \n",
    "# go back 90 days\n",
    "for i in range(90, 2516):    \n",
    "    # put the last 90 days values in one row of X_train\n",
    "    X_train.append(training_set_scaled[i-90:i, 0]) \n",
    "    y_train.append(training_set_scaled[i, 0])\n"
   ]
  },
  {
   "cell_type": "code",
   "execution_count": 14,
   "metadata": {},
   "outputs": [],
   "source": [
    "# Turning X_train & y_train into numpy arrays\n",
    "X_train, y_train = np.array(X_train), np.array(y_train)"
   ]
  },
  {
   "cell_type": "code",
   "execution_count": 15,
   "metadata": {},
   "outputs": [
    {
     "data": {
      "text/plain": [
       "array([[0.29661554, 0.28169018, 0.28652523, ..., 0.39604801, 0.35947023,\n",
       "        0.34937992],\n",
       "       [0.28169018, 0.28652523, 0.27664503, ..., 0.35947023, 0.34937992,\n",
       "        0.33949973],\n",
       "       [0.28652523, 0.27664503, 0.27664503, ..., 0.34937992, 0.33949973,\n",
       "        0.34622666],\n",
       "       ...,\n",
       "       [0.50241753, 0.50367879, 0.51250799, ..., 0.38974145, 0.3979399 ,\n",
       "        0.37881028],\n",
       "       [0.50367879, 0.51250799, 0.48665129, ..., 0.3979399 , 0.37881028,\n",
       "        0.37902037],\n",
       "       [0.51250799, 0.48665129, 0.49358848, ..., 0.37881028, 0.37902037,\n",
       "        0.38280429]])"
      ]
     },
     "execution_count": 15,
     "metadata": {},
     "output_type": "execute_result"
    }
   ],
   "source": [
    "# Displaying X_train\n",
    "X_train"
   ]
  },
  {
   "cell_type": "markdown",
   "metadata": {},
   "source": [
    "### Reshaping the Matrix\n",
    "\n",
    "A new matrix dimension is needed to accommodate the indicator (predictor). "
   ]
  },
  {
   "cell_type": "markdown",
   "metadata": {},
   "source": [
    "<img src=\"http://blog.iseesystems.com/wp-content/uploads/2009/07/cube-matrix.jpg\" width=\"500\" align=\"left\"/>"
   ]
  },
  {
   "cell_type": "code",
   "execution_count": 16,
   "metadata": {},
   "outputs": [],
   "source": [
    "# Reshaping the data matrix, we retain the 2 original dimensions and add a third of depth=1\n",
    "X_train = np.reshape(X_train, (X_train.shape[0], X_train.shape[1], 1))"
   ]
  },
  {
   "cell_type": "markdown",
   "metadata": {},
   "source": [
    "## Building the RNN"
   ]
  },
  {
   "cell_type": "markdown",
   "metadata": {},
   "source": [
    "### RNN initialization\n",
    "\n",
    "- Import the sequential model from the Keras API;\n",
    "- Import the Dense layer template from the Keras API;\n",
    "- Import the LSTM model from the Keras API\n",
    "- Create an instance of the sequential model called regressor because we want to predict a continuous value"
   ]
  },
  {
   "cell_type": "code",
   "execution_count": 17,
   "metadata": {},
   "outputs": [
    {
     "name": "stderr",
     "output_type": "stream",
     "text": [
      "Using TensorFlow backend.\n",
      "/opt/conda/lib/python3.7/site-packages/tensorflow/python/framework/dtypes.py:526: FutureWarning: Passing (type, 1) or '1type' as a synonym of type is deprecated; in a future version of numpy, it will be understood as (type, (1,)) / '(1,)type'.\n",
      "  _np_qint8 = np.dtype([(\"qint8\", np.int8, 1)])\n",
      "/opt/conda/lib/python3.7/site-packages/tensorflow/python/framework/dtypes.py:527: FutureWarning: Passing (type, 1) or '1type' as a synonym of type is deprecated; in a future version of numpy, it will be understood as (type, (1,)) / '(1,)type'.\n",
      "  _np_quint8 = np.dtype([(\"quint8\", np.uint8, 1)])\n",
      "/opt/conda/lib/python3.7/site-packages/tensorflow/python/framework/dtypes.py:528: FutureWarning: Passing (type, 1) or '1type' as a synonym of type is deprecated; in a future version of numpy, it will be understood as (type, (1,)) / '(1,)type'.\n",
      "  _np_qint16 = np.dtype([(\"qint16\", np.int16, 1)])\n",
      "/opt/conda/lib/python3.7/site-packages/tensorflow/python/framework/dtypes.py:529: FutureWarning: Passing (type, 1) or '1type' as a synonym of type is deprecated; in a future version of numpy, it will be understood as (type, (1,)) / '(1,)type'.\n",
      "  _np_quint16 = np.dtype([(\"quint16\", np.uint16, 1)])\n",
      "/opt/conda/lib/python3.7/site-packages/tensorflow/python/framework/dtypes.py:530: FutureWarning: Passing (type, 1) or '1type' as a synonym of type is deprecated; in a future version of numpy, it will be understood as (type, (1,)) / '(1,)type'.\n",
      "  _np_qint32 = np.dtype([(\"qint32\", np.int32, 1)])\n",
      "/opt/conda/lib/python3.7/site-packages/tensorflow/python/framework/dtypes.py:535: FutureWarning: Passing (type, 1) or '1type' as a synonym of type is deprecated; in a future version of numpy, it will be understood as (type, (1,)) / '(1,)type'.\n",
      "  np_resource = np.dtype([(\"resource\", np.ubyte, 1)])\n"
     ]
    }
   ],
   "source": [
    "# Importing the Keras libraries and packages\n",
    "from keras.models import Sequential\n",
    "from keras.layers import Dense\n",
    "from keras.layers import LSTM\n",
    "from keras.layers import Dropout"
   ]
  },
  {
   "cell_type": "code",
   "execution_count": 18,
   "metadata": {},
   "outputs": [],
   "source": [
    "# Initialising the RNN as a sequence of layers\n",
    "regressor = Sequential()"
   ]
  },
  {
   "cell_type": "markdown",
   "metadata": {},
   "source": [
    "### Adding the first layer\n",
    "\n",
    "<br/>We first add an object of the LSTM /class! \n",
    "<br/><b>Specifications:</b>\n",
    "<br/>100 neurons\n",
    "<br/>return requences = true\n",
    "<br/>input shape : 3D\n",
    "<br/>dropout rate = 20%"
   ]
  },
  {
   "cell_type": "code",
   "execution_count": 19,
   "metadata": {},
   "outputs": [
    {
     "name": "stdout",
     "output_type": "stream",
     "text": [
      "WARNING:tensorflow:From /opt/conda/lib/python3.7/site-packages/tensorflow/python/framework/op_def_library.py:263: colocate_with (from tensorflow.python.framework.ops) is deprecated and will be removed in a future version.\n",
      "Instructions for updating:\n",
      "Colocations handled automatically by placer.\n"
     ]
    }
   ],
   "source": [
    "# Adding the input layer and the LSTM layer\n",
    "regressor.add(LSTM(units = 100, return_sequences = True, input_shape =  (X_train.shape[1], 1)))"
   ]
  },
  {
   "cell_type": "code",
   "execution_count": 20,
   "metadata": {},
   "outputs": [
    {
     "name": "stdout",
     "output_type": "stream",
     "text": [
      "WARNING:tensorflow:From /opt/conda/lib/python3.7/site-packages/keras/backend/tensorflow_backend.py:3733: calling dropout (from tensorflow.python.ops.nn_ops) with keep_prob is deprecated and will be removed in a future version.\n",
      "Instructions for updating:\n",
      "Please use `rate` instead of `keep_prob`. Rate should be set to `rate = 1 - keep_prob`.\n"
     ]
    }
   ],
   "source": [
    "# the argument is the dropout rate to ignore in the layers (20%), \n",
    "# i.e. 50 units * 20% = 10 units will be dropped each time\n",
    "regressor.add(Dropout(0.2))\n"
   ]
  },
  {
   "cell_type": "markdown",
   "metadata": {},
   "source": [
    "### Add More Layers\n",
    "\n",
    "Adding 5 more layers, with 100 neurons and the dropout rate of 20%\n"
   ]
  },
  {
   "cell_type": "code",
   "execution_count": 21,
   "metadata": {},
   "outputs": [],
   "source": [
    "# Adding a second LSTM layer and some Dropout regularisation\n",
    "regressor.add(LSTM(units = 100, return_sequences = True))\n",
    "regressor.add(Dropout(0.2))"
   ]
  },
  {
   "cell_type": "code",
   "execution_count": 22,
   "metadata": {},
   "outputs": [],
   "source": [
    "# Adding a third LSTM layer and some Dropout regularisation\n",
    "regressor.add(LSTM(units = 100, return_sequences = True))\n",
    "regressor.add(Dropout(0.2))"
   ]
  },
  {
   "cell_type": "code",
   "execution_count": 23,
   "metadata": {},
   "outputs": [],
   "source": [
    "# Adding a fourth LSTM layer and some Dropout regularisation\n",
    "regressor.add(LSTM(units = 100, return_sequences = True))\n",
    "regressor.add(Dropout(0.2))"
   ]
  },
  {
   "cell_type": "code",
   "execution_count": 24,
   "metadata": {},
   "outputs": [],
   "source": [
    "# Adding a fifth LSTM layer and some Dropout regularisation\n",
    "regressor.add(LSTM(units = 100, return_sequences = True))\n",
    "regressor.add(Dropout(0.2))"
   ]
  },
  {
   "cell_type": "code",
   "execution_count": 25,
   "metadata": {},
   "outputs": [],
   "source": [
    "# Adding a sixth LSTM layer and some Dropout regularisation\n",
    "regressor.add(LSTM(units = 100))\n",
    "regressor.add(Dropout(0.2))"
   ]
  },
  {
   "cell_type": "markdown",
   "metadata": {},
   "source": [
    "### Add Output Layer & Compile\n",
    "\n",
    "The output has 1 dimension , i.e. one value to be predicted thus or output fully connected layer has dimensionality = 1.\n",
    "\n",
    "- **Optimizer**: adam\n",
    "- **Loss function**: regression problems take the mean square error as most common"
   ]
  },
  {
   "cell_type": "code",
   "execution_count": 26,
   "metadata": {},
   "outputs": [],
   "source": [
    "# Adding the output layer\n",
    "regressor.add(Dense(units = 1))"
   ]
  },
  {
   "cell_type": "code",
   "execution_count": 27,
   "metadata": {},
   "outputs": [],
   "source": [
    "# Compiling the RNN\n",
    "regressor.compile(optimizer = 'adam', loss = 'mean_squared_error')"
   ]
  },
  {
   "cell_type": "markdown",
   "metadata": {},
   "source": [
    "## Train and deploy the RNN"
   ]
  },
  {
   "cell_type": "markdown",
   "metadata": {},
   "source": [
    "### Fitting the RNN to the Training set\n",
    "\n",
    "RNN is being trained using the data from **Training Set X** and **predictors in y**.\n",
    "<br/>100 iterations will be used"
   ]
  },
  {
   "cell_type": "code",
   "execution_count": 28,
   "metadata": {
    "scrolled": true
   },
   "outputs": [
    {
     "name": "stdout",
     "output_type": "stream",
     "text": [
      "WARNING:tensorflow:From /opt/conda/lib/python3.7/site-packages/tensorflow/python/ops/math_ops.py:3066: to_int32 (from tensorflow.python.ops.math_ops) is deprecated and will be removed in a future version.\n",
      "Instructions for updating:\n",
      "Use tf.cast instead.\n",
      "Epoch 1/100\n",
      "2426/2426 [==============================] - 166s 68ms/step - loss: 0.0317\n",
      "Epoch 2/100\n",
      "2426/2426 [==============================] - 154s 64ms/step - loss: 0.0070\n",
      "Epoch 3/100\n",
      "2426/2426 [==============================] - 143s 59ms/step - loss: 0.0070\n",
      "Epoch 4/100\n",
      "2426/2426 [==============================] - 144s 59ms/step - loss: 0.0051\n",
      "Epoch 5/100\n",
      "2426/2426 [==============================] - 145s 60ms/step - loss: 0.0047\n",
      "Epoch 6/100\n",
      "2426/2426 [==============================] - 147s 60ms/step - loss: 0.0046\n",
      "Epoch 7/100\n",
      "2426/2426 [==============================] - 147s 61ms/step - loss: 0.0043\n",
      "Epoch 8/100\n",
      "2426/2426 [==============================] - 148s 61ms/step - loss: 0.0042\n",
      "Epoch 9/100\n",
      "2426/2426 [==============================] - 146s 60ms/step - loss: 0.0035\n",
      "Epoch 10/100\n",
      "2426/2426 [==============================] - 145s 60ms/step - loss: 0.0038\n",
      "Epoch 11/100\n",
      "2426/2426 [==============================] - 148s 61ms/step - loss: 0.0032\n",
      "Epoch 12/100\n",
      "2426/2426 [==============================] - 145s 60ms/step - loss: 0.0030\n",
      "Epoch 13/100\n",
      "2426/2426 [==============================] - 148s 61ms/step - loss: 0.0031\n",
      "Epoch 14/100\n",
      "2426/2426 [==============================] - 155s 64ms/step - loss: 0.0028\n",
      "Epoch 15/100\n",
      "2426/2426 [==============================] - 158s 65ms/step - loss: 0.0029\n",
      "Epoch 16/100\n",
      "2426/2426 [==============================] - 151s 62ms/step - loss: 0.0026\n",
      "Epoch 17/100\n",
      "2426/2426 [==============================] - 145s 60ms/step - loss: 0.0027\n",
      "Epoch 18/100\n",
      "2426/2426 [==============================] - 140s 58ms/step - loss: 0.0025\n",
      "Epoch 19/100\n",
      "2426/2426 [==============================] - 140s 58ms/step - loss: 0.0021\n",
      "Epoch 20/100\n",
      "2426/2426 [==============================] - 139s 57ms/step - loss: 0.0023\n",
      "Epoch 21/100\n",
      "2426/2426 [==============================] - 138s 57ms/step - loss: 0.0021\n",
      "Epoch 22/100\n",
      "2426/2426 [==============================] - 137s 56ms/step - loss: 0.0019\n",
      "Epoch 23/100\n",
      "2426/2426 [==============================] - 137s 57ms/step - loss: 0.0018\n",
      "Epoch 24/100\n",
      "2426/2426 [==============================] - 137s 57ms/step - loss: 0.0018\n",
      "Epoch 25/100\n",
      "2426/2426 [==============================] - 138s 57ms/step - loss: 0.0018\n",
      "Epoch 26/100\n",
      "2426/2426 [==============================] - 144s 59ms/step - loss: 0.0019\n",
      "Epoch 27/100\n",
      "2426/2426 [==============================] - 145s 60ms/step - loss: 0.0017\n",
      "Epoch 28/100\n",
      "2426/2426 [==============================] - 158s 65ms/step - loss: 0.0018\n",
      "Epoch 29/100\n",
      "2426/2426 [==============================] - 152s 63ms/step - loss: 0.0016\n",
      "Epoch 30/100\n",
      "2426/2426 [==============================] - 141s 58ms/step - loss: 0.0015\n",
      "Epoch 31/100\n",
      "2426/2426 [==============================] - 134s 55ms/step - loss: 0.0015\n",
      "Epoch 32/100\n",
      "2426/2426 [==============================] - 135s 56ms/step - loss: 0.0015\n",
      "Epoch 33/100\n",
      "2426/2426 [==============================] - 133s 55ms/step - loss: 0.0014\n",
      "Epoch 34/100\n",
      "2426/2426 [==============================] - 134s 55ms/step - loss: 0.0014\n",
      "Epoch 35/100\n",
      "2426/2426 [==============================] - 133s 55ms/step - loss: 0.0015\n",
      "Epoch 36/100\n",
      "2426/2426 [==============================] - 136s 56ms/step - loss: 0.0014\n",
      "Epoch 37/100\n",
      "2426/2426 [==============================] - 141s 58ms/step - loss: 0.0014\n",
      "Epoch 38/100\n",
      "2426/2426 [==============================] - 150s 62ms/step - loss: 0.0015\n",
      "Epoch 39/100\n",
      "2426/2426 [==============================] - 143s 59ms/step - loss: 0.0014\n",
      "Epoch 40/100\n",
      "2426/2426 [==============================] - 134s 55ms/step - loss: 0.0013\n",
      "Epoch 41/100\n",
      "2426/2426 [==============================] - 132s 54ms/step - loss: 0.0013\n",
      "Epoch 42/100\n",
      "2426/2426 [==============================] - 131s 54ms/step - loss: 0.0013\n",
      "Epoch 43/100\n",
      "2426/2426 [==============================] - 132s 55ms/step - loss: 0.0014\n",
      "Epoch 44/100\n",
      "2426/2426 [==============================] - 131s 54ms/step - loss: 0.0013\n",
      "Epoch 45/100\n",
      "2426/2426 [==============================] - 132s 54ms/step - loss: 0.0012\n",
      "Epoch 46/100\n",
      "2426/2426 [==============================] - 138s 57ms/step - loss: 0.0012\n",
      "Epoch 47/100\n",
      "2426/2426 [==============================] - 159s 66ms/step - loss: 0.0013\n",
      "Epoch 48/100\n",
      "2426/2426 [==============================] - 165s 68ms/step - loss: 0.0014\n",
      "Epoch 49/100\n",
      "2426/2426 [==============================] - 176s 73ms/step - loss: 0.0012\n",
      "Epoch 50/100\n",
      "2426/2426 [==============================] - 172s 71ms/step - loss: 0.0012\n",
      "Epoch 51/100\n",
      "2426/2426 [==============================] - 168s 69ms/step - loss: 0.0011\n",
      "Epoch 52/100\n",
      "2426/2426 [==============================] - 166s 68ms/step - loss: 0.0012\n",
      "Epoch 53/100\n",
      "2426/2426 [==============================] - 165s 68ms/step - loss: 0.0011\n",
      "Epoch 54/100\n",
      "2426/2426 [==============================] - 164s 68ms/step - loss: 0.0012\n",
      "Epoch 55/100\n",
      "2426/2426 [==============================] - 164s 67ms/step - loss: 0.0011\n",
      "Epoch 56/100\n",
      "2426/2426 [==============================] - 163s 67ms/step - loss: 0.0011\n",
      "Epoch 57/100\n",
      "2426/2426 [==============================] - 163s 67ms/step - loss: 0.0011\n",
      "Epoch 58/100\n",
      "2426/2426 [==============================] - 164s 68ms/step - loss: 0.0011\n",
      "Epoch 59/100\n",
      "2426/2426 [==============================] - 166s 68ms/step - loss: 0.0011\n",
      "Epoch 60/100\n",
      "2426/2426 [==============================] - 165s 68ms/step - loss: 0.0010\n",
      "Epoch 61/100\n",
      "2426/2426 [==============================] - 166s 69ms/step - loss: 0.0012\n",
      "Epoch 62/100\n",
      "2426/2426 [==============================] - 169s 70ms/step - loss: 0.0012\n",
      "Epoch 63/100\n",
      "2426/2426 [==============================] - 173s 71ms/step - loss: 0.0011\n",
      "Epoch 64/100\n",
      "2426/2426 [==============================] - 170s 70ms/step - loss: 0.0010\n",
      "Epoch 65/100\n",
      "2426/2426 [==============================] - 166s 69ms/step - loss: 9.6788e-04\n",
      "Epoch 66/100\n",
      "2426/2426 [==============================] - 165s 68ms/step - loss: 0.0011\n",
      "Epoch 67/100\n",
      "2426/2426 [==============================] - 150s 62ms/step - loss: 9.7751e-04\n",
      "Epoch 68/100\n",
      "2426/2426 [==============================] - 143s 59ms/step - loss: 0.0011\n",
      "Epoch 69/100\n",
      "2426/2426 [==============================] - 141s 58ms/step - loss: 0.0011\n",
      "Epoch 70/100\n",
      "2426/2426 [==============================] - 141s 58ms/step - loss: 9.2956e-04\n",
      "Epoch 71/100\n",
      "2426/2426 [==============================] - 145s 60ms/step - loss: 0.0010\n",
      "Epoch 72/100\n",
      "2426/2426 [==============================] - 144s 59ms/step - loss: 9.4855e-04\n",
      "Epoch 73/100\n",
      "2426/2426 [==============================] - 144s 59ms/step - loss: 0.0012\n",
      "Epoch 74/100\n",
      "2426/2426 [==============================] - 139s 57ms/step - loss: 0.0010\n",
      "Epoch 75/100\n",
      "2426/2426 [==============================] - 142s 59ms/step - loss: 9.0006e-04\n",
      "Epoch 76/100\n",
      "2426/2426 [==============================] - 142s 59ms/step - loss: 9.2041e-04\n",
      "Epoch 77/100\n",
      "2426/2426 [==============================] - 139s 57ms/step - loss: 9.5417e-04\n",
      "Epoch 78/100\n",
      "2426/2426 [==============================] - 141s 58ms/step - loss: 9.2329e-04\n",
      "Epoch 79/100\n",
      "2426/2426 [==============================] - 139s 57ms/step - loss: 0.0010\n",
      "Epoch 80/100\n",
      "2426/2426 [==============================] - 140s 58ms/step - loss: 8.7638e-04\n",
      "Epoch 81/100\n",
      "2426/2426 [==============================] - 141s 58ms/step - loss: 8.8841e-04\n",
      "Epoch 82/100\n",
      "2426/2426 [==============================] - 143s 59ms/step - loss: 0.0010\n",
      "Epoch 83/100\n",
      "2426/2426 [==============================] - 150s 62ms/step - loss: 9.2016e-04\n",
      "Epoch 84/100\n",
      "2426/2426 [==============================] - 146s 60ms/step - loss: 8.5184e-04\n",
      "Epoch 85/100\n",
      "2426/2426 [==============================] - 135s 56ms/step - loss: 9.3556e-04\n",
      "Epoch 86/100\n",
      "2426/2426 [==============================] - 140s 58ms/step - loss: 8.3119e-04\n",
      "Epoch 87/100\n",
      "2426/2426 [==============================] - 140s 58ms/step - loss: 9.5449e-04\n",
      "Epoch 88/100\n",
      "2426/2426 [==============================] - 140s 58ms/step - loss: 8.1942e-04\n",
      "Epoch 89/100\n",
      "2426/2426 [==============================] - 143s 59ms/step - loss: 8.6946e-04\n",
      "Epoch 90/100\n"
     ]
    },
    {
     "name": "stdout",
     "output_type": "stream",
     "text": [
      "2426/2426 [==============================] - 155s 64ms/step - loss: 9.5637e-04\n",
      "Epoch 91/100\n",
      "2426/2426 [==============================] - 134s 55ms/step - loss: 8.4258e-04\n",
      "Epoch 92/100\n",
      "2426/2426 [==============================] - 141s 58ms/step - loss: 9.8617e-04\n",
      "Epoch 93/100\n",
      "2426/2426 [==============================] - 144s 59ms/step - loss: 9.7200e-04\n",
      "Epoch 94/100\n",
      "2426/2426 [==============================] - 138s 57ms/step - loss: 9.2764e-04\n",
      "Epoch 95/100\n",
      "2426/2426 [==============================] - 136s 56ms/step - loss: 8.6807e-04\n",
      "Epoch 96/100\n",
      "2426/2426 [==============================] - 151s 62ms/step - loss: 8.2170e-04\n",
      "Epoch 97/100\n",
      "2426/2426 [==============================] - 172s 71ms/step - loss: 0.0010\n",
      "Epoch 98/100\n",
      "2426/2426 [==============================] - 145s 60ms/step - loss: 9.0207e-04\n",
      "Epoch 99/100\n",
      "2426/2426 [==============================] - 139s 57ms/step - loss: 8.4542e-04\n",
      "Epoch 100/100\n",
      "2426/2426 [==============================] - 143s 59ms/step - loss: 8.5960e-04\n"
     ]
    },
    {
     "data": {
      "text/plain": [
       "<keras.callbacks.History at 0x7f13fc6d9710>"
      ]
     },
     "execution_count": 28,
     "metadata": {},
     "output_type": "execute_result"
    }
   ],
   "source": [
    "# Fitting the RNN to the Training set\n",
    "regressor.fit(X_train, y_train, epochs = 100, batch_size = 32)"
   ]
  },
  {
   "cell_type": "markdown",
   "metadata": {},
   "source": [
    "### Computing Predictions\n",
    "\n",
    "Created a data-frame by importing the Exxon Stock Price Test set for August 2019 using pandas and made it into a numpy array.\n"
   ]
  },
  {
   "cell_type": "code",
   "execution_count": 51,
   "metadata": {},
   "outputs": [
    {
     "data": {
      "text/html": [
       "<div>\n",
       "<style scoped>\n",
       "    .dataframe tbody tr th:only-of-type {\n",
       "        vertical-align: middle;\n",
       "    }\n",
       "\n",
       "    .dataframe tbody tr th {\n",
       "        vertical-align: top;\n",
       "    }\n",
       "\n",
       "    .dataframe thead th {\n",
       "        text-align: right;\n",
       "    }\n",
       "</style>\n",
       "<table border=\"1\" class=\"dataframe\">\n",
       "  <thead>\n",
       "    <tr style=\"text-align: right;\">\n",
       "      <th></th>\n",
       "      <th>Date</th>\n",
       "      <th>Open</th>\n",
       "      <th>High</th>\n",
       "      <th>Low</th>\n",
       "      <th>Close</th>\n",
       "      <th>Adj Close</th>\n",
       "      <th>Volume</th>\n",
       "    </tr>\n",
       "  </thead>\n",
       "  <tbody>\n",
       "    <tr>\n",
       "      <td>0</td>\n",
       "      <td>2019-08-01</td>\n",
       "      <td>73.739998</td>\n",
       "      <td>74.269997</td>\n",
       "      <td>72.269997</td>\n",
       "      <td>72.459999</td>\n",
       "      <td>71.570107</td>\n",
       "      <td>17132800</td>\n",
       "    </tr>\n",
       "    <tr>\n",
       "      <td>1</td>\n",
       "      <td>2019-08-02</td>\n",
       "      <td>72.610001</td>\n",
       "      <td>73.260002</td>\n",
       "      <td>71.180000</td>\n",
       "      <td>71.750000</td>\n",
       "      <td>70.868828</td>\n",
       "      <td>21376700</td>\n",
       "    </tr>\n",
       "    <tr>\n",
       "      <td>2</td>\n",
       "      <td>2019-08-05</td>\n",
       "      <td>70.779999</td>\n",
       "      <td>70.919998</td>\n",
       "      <td>69.610001</td>\n",
       "      <td>70.279999</td>\n",
       "      <td>69.416878</td>\n",
       "      <td>19080900</td>\n",
       "    </tr>\n",
       "    <tr>\n",
       "      <td>3</td>\n",
       "      <td>2019-08-06</td>\n",
       "      <td>70.290001</td>\n",
       "      <td>71.010002</td>\n",
       "      <td>70.279999</td>\n",
       "      <td>70.959999</td>\n",
       "      <td>70.088524</td>\n",
       "      <td>12282400</td>\n",
       "    </tr>\n",
       "    <tr>\n",
       "      <td>4</td>\n",
       "      <td>2019-08-07</td>\n",
       "      <td>69.860001</td>\n",
       "      <td>70.879997</td>\n",
       "      <td>69.400002</td>\n",
       "      <td>70.500000</td>\n",
       "      <td>69.634178</td>\n",
       "      <td>15231100</td>\n",
       "    </tr>\n",
       "    <tr>\n",
       "      <td>5</td>\n",
       "      <td>2019-08-08</td>\n",
       "      <td>70.849998</td>\n",
       "      <td>72.410004</td>\n",
       "      <td>70.620003</td>\n",
       "      <td>72.379997</td>\n",
       "      <td>71.491089</td>\n",
       "      <td>14304100</td>\n",
       "    </tr>\n",
       "    <tr>\n",
       "      <td>6</td>\n",
       "      <td>2019-08-09</td>\n",
       "      <td>72.129997</td>\n",
       "      <td>72.250000</td>\n",
       "      <td>70.470001</td>\n",
       "      <td>70.839996</td>\n",
       "      <td>69.970001</td>\n",
       "      <td>13686600</td>\n",
       "    </tr>\n",
       "    <tr>\n",
       "      <td>7</td>\n",
       "      <td>2019-08-12</td>\n",
       "      <td>70.059998</td>\n",
       "      <td>70.160004</td>\n",
       "      <td>69.330002</td>\n",
       "      <td>69.629997</td>\n",
       "      <td>69.629997</td>\n",
       "      <td>8668400</td>\n",
       "    </tr>\n",
       "    <tr>\n",
       "      <td>8</td>\n",
       "      <td>2019-08-13</td>\n",
       "      <td>69.269997</td>\n",
       "      <td>70.620003</td>\n",
       "      <td>68.919998</td>\n",
       "      <td>70.489998</td>\n",
       "      <td>70.489998</td>\n",
       "      <td>12403300</td>\n",
       "    </tr>\n",
       "    <tr>\n",
       "      <td>9</td>\n",
       "      <td>2019-08-14</td>\n",
       "      <td>69.070000</td>\n",
       "      <td>69.089996</td>\n",
       "      <td>67.650002</td>\n",
       "      <td>67.650002</td>\n",
       "      <td>67.650002</td>\n",
       "      <td>18114400</td>\n",
       "    </tr>\n",
       "    <tr>\n",
       "      <td>10</td>\n",
       "      <td>2019-08-15</td>\n",
       "      <td>67.459999</td>\n",
       "      <td>67.559998</td>\n",
       "      <td>66.529999</td>\n",
       "      <td>67.250000</td>\n",
       "      <td>67.250000</td>\n",
       "      <td>12874400</td>\n",
       "    </tr>\n",
       "    <tr>\n",
       "      <td>11</td>\n",
       "      <td>2019-08-16</td>\n",
       "      <td>67.779999</td>\n",
       "      <td>68.459999</td>\n",
       "      <td>67.269997</td>\n",
       "      <td>68.300003</td>\n",
       "      <td>68.300003</td>\n",
       "      <td>12649000</td>\n",
       "    </tr>\n",
       "    <tr>\n",
       "      <td>12</td>\n",
       "      <td>2019-08-19</td>\n",
       "      <td>68.970001</td>\n",
       "      <td>69.650002</td>\n",
       "      <td>68.860001</td>\n",
       "      <td>69.449997</td>\n",
       "      <td>69.449997</td>\n",
       "      <td>10032800</td>\n",
       "    </tr>\n",
       "    <tr>\n",
       "      <td>13</td>\n",
       "      <td>2019-08-20</td>\n",
       "      <td>69.300003</td>\n",
       "      <td>69.300003</td>\n",
       "      <td>68.709999</td>\n",
       "      <td>69.029999</td>\n",
       "      <td>69.029999</td>\n",
       "      <td>9743500</td>\n",
       "    </tr>\n",
       "    <tr>\n",
       "      <td>14</td>\n",
       "      <td>2019-08-21</td>\n",
       "      <td>69.959999</td>\n",
       "      <td>69.980003</td>\n",
       "      <td>69.370003</td>\n",
       "      <td>69.720001</td>\n",
       "      <td>69.720001</td>\n",
       "      <td>10134200</td>\n",
       "    </tr>\n",
       "    <tr>\n",
       "      <td>15</td>\n",
       "      <td>2019-08-22</td>\n",
       "      <td>69.910004</td>\n",
       "      <td>69.959999</td>\n",
       "      <td>69.250000</td>\n",
       "      <td>69.570000</td>\n",
       "      <td>69.570000</td>\n",
       "      <td>8972000</td>\n",
       "    </tr>\n",
       "    <tr>\n",
       "      <td>16</td>\n",
       "      <td>2019-08-23</td>\n",
       "      <td>68.820000</td>\n",
       "      <td>69.529999</td>\n",
       "      <td>67.029999</td>\n",
       "      <td>67.489998</td>\n",
       "      <td>67.489998</td>\n",
       "      <td>15371900</td>\n",
       "    </tr>\n",
       "    <tr>\n",
       "      <td>17</td>\n",
       "      <td>2019-08-26</td>\n",
       "      <td>68.120003</td>\n",
       "      <td>68.260002</td>\n",
       "      <td>67.529999</td>\n",
       "      <td>67.849998</td>\n",
       "      <td>67.849998</td>\n",
       "      <td>7343900</td>\n",
       "    </tr>\n",
       "    <tr>\n",
       "      <td>18</td>\n",
       "      <td>2019-08-27</td>\n",
       "      <td>68.129997</td>\n",
       "      <td>68.440002</td>\n",
       "      <td>66.970001</td>\n",
       "      <td>67.190002</td>\n",
       "      <td>67.190002</td>\n",
       "      <td>9490900</td>\n",
       "    </tr>\n",
       "    <tr>\n",
       "      <td>19</td>\n",
       "      <td>2019-08-28</td>\n",
       "      <td>67.529999</td>\n",
       "      <td>67.980003</td>\n",
       "      <td>67.160004</td>\n",
       "      <td>67.680000</td>\n",
       "      <td>67.680000</td>\n",
       "      <td>9647400</td>\n",
       "    </tr>\n",
       "    <tr>\n",
       "      <td>20</td>\n",
       "      <td>2019-08-29</td>\n",
       "      <td>68.300003</td>\n",
       "      <td>68.669998</td>\n",
       "      <td>68.089996</td>\n",
       "      <td>68.430000</td>\n",
       "      <td>68.430000</td>\n",
       "      <td>9004100</td>\n",
       "    </tr>\n",
       "    <tr>\n",
       "      <td>21</td>\n",
       "      <td>2019-08-30</td>\n",
       "      <td>68.610001</td>\n",
       "      <td>69.080002</td>\n",
       "      <td>68.059998</td>\n",
       "      <td>68.480003</td>\n",
       "      <td>68.480003</td>\n",
       "      <td>9180800</td>\n",
       "    </tr>\n",
       "  </tbody>\n",
       "</table>\n",
       "</div>"
      ],
      "text/plain": [
       "          Date       Open       High        Low      Close  Adj Close  \\\n",
       "0   2019-08-01  73.739998  74.269997  72.269997  72.459999  71.570107   \n",
       "1   2019-08-02  72.610001  73.260002  71.180000  71.750000  70.868828   \n",
       "2   2019-08-05  70.779999  70.919998  69.610001  70.279999  69.416878   \n",
       "3   2019-08-06  70.290001  71.010002  70.279999  70.959999  70.088524   \n",
       "4   2019-08-07  69.860001  70.879997  69.400002  70.500000  69.634178   \n",
       "5   2019-08-08  70.849998  72.410004  70.620003  72.379997  71.491089   \n",
       "6   2019-08-09  72.129997  72.250000  70.470001  70.839996  69.970001   \n",
       "7   2019-08-12  70.059998  70.160004  69.330002  69.629997  69.629997   \n",
       "8   2019-08-13  69.269997  70.620003  68.919998  70.489998  70.489998   \n",
       "9   2019-08-14  69.070000  69.089996  67.650002  67.650002  67.650002   \n",
       "10  2019-08-15  67.459999  67.559998  66.529999  67.250000  67.250000   \n",
       "11  2019-08-16  67.779999  68.459999  67.269997  68.300003  68.300003   \n",
       "12  2019-08-19  68.970001  69.650002  68.860001  69.449997  69.449997   \n",
       "13  2019-08-20  69.300003  69.300003  68.709999  69.029999  69.029999   \n",
       "14  2019-08-21  69.959999  69.980003  69.370003  69.720001  69.720001   \n",
       "15  2019-08-22  69.910004  69.959999  69.250000  69.570000  69.570000   \n",
       "16  2019-08-23  68.820000  69.529999  67.029999  67.489998  67.489998   \n",
       "17  2019-08-26  68.120003  68.260002  67.529999  67.849998  67.849998   \n",
       "18  2019-08-27  68.129997  68.440002  66.970001  67.190002  67.190002   \n",
       "19  2019-08-28  67.529999  67.980003  67.160004  67.680000  67.680000   \n",
       "20  2019-08-29  68.300003  68.669998  68.089996  68.430000  68.430000   \n",
       "21  2019-08-30  68.610001  69.080002  68.059998  68.480003  68.480003   \n",
       "\n",
       "      Volume  \n",
       "0   17132800  \n",
       "1   21376700  \n",
       "2   19080900  \n",
       "3   12282400  \n",
       "4   15231100  \n",
       "5   14304100  \n",
       "6   13686600  \n",
       "7    8668400  \n",
       "8   12403300  \n",
       "9   18114400  \n",
       "10  12874400  \n",
       "11  12649000  \n",
       "12  10032800  \n",
       "13   9743500  \n",
       "14  10134200  \n",
       "15   8972000  \n",
       "16  15371900  \n",
       "17   7343900  \n",
       "18   9490900  \n",
       "19   9647400  \n",
       "20   9004100  \n",
       "21   9180800  "
      ]
     },
     "execution_count": 51,
     "metadata": {},
     "output_type": "execute_result"
    }
   ],
   "source": [
    "# Getting the real stock price for August 1st 2019 \n",
    "\n",
    "dataset_test = pd.read_csv('dataset_test.csv')\n",
    "dataset_test"
   ]
  },
  {
   "cell_type": "code",
   "execution_count": 52,
   "metadata": {},
   "outputs": [
    {
     "data": {
      "text/plain": [
       "22"
      ]
     },
     "execution_count": 52,
     "metadata": {},
     "output_type": "execute_result"
    }
   ],
   "source": [
    "# selecting 2nd column of data frame with all rows\n",
    "# Displaying the amount of rows in the real_stock_price array\n",
    "real_stock_price = dataset_test.iloc[:, 1:2].values\n",
    "real_stock_price.size"
   ]
  },
  {
   "cell_type": "code",
   "execution_count": 53,
   "metadata": {},
   "outputs": [
    {
     "data": {
      "text/plain": [
       "array([[73.739998],\n",
       "       [72.610001],\n",
       "       [70.779999],\n",
       "       [70.290001],\n",
       "       [69.860001],\n",
       "       [70.849998],\n",
       "       [72.129997],\n",
       "       [70.059998],\n",
       "       [69.269997],\n",
       "       [69.07    ],\n",
       "       [67.459999],\n",
       "       [67.779999],\n",
       "       [68.970001],\n",
       "       [69.300003],\n",
       "       [69.959999],\n",
       "       [69.910004],\n",
       "       [68.82    ],\n",
       "       [68.120003],\n",
       "       [68.129997],\n",
       "       [67.529999],\n",
       "       [68.300003],\n",
       "       [68.610001]])"
      ]
     },
     "execution_count": 53,
     "metadata": {},
     "output_type": "execute_result"
    }
   ],
   "source": [
    "# Displaying all the content in the real_stock_price array\n",
    "real_stock_price"
   ]
  },
  {
   "cell_type": "markdown",
   "metadata": {},
   "source": [
    "\n"
   ]
  },
  {
   "cell_type": "code",
   "execution_count": 54,
   "metadata": {},
   "outputs": [],
   "source": [
    "# Getting the predicted stock price of 2019\n",
    "\n",
    "# axis = 0 means concatenate the lines (i.e. vertical axis)\n",
    "dataset_total = pd.concat((dataset_train['Open'], dataset_test['Open']), axis = 0) "
   ]
  },
  {
   "cell_type": "code",
   "execution_count": 55,
   "metadata": {},
   "outputs": [
    {
     "data": {
      "text/plain": [
       "2538"
      ]
     },
     "execution_count": 55,
     "metadata": {},
     "output_type": "execute_result"
    }
   ],
   "source": [
    "# Displaying the amount of rows in the dataset_total array\n",
    "dataset_total.size\n"
   ]
  },
  {
   "cell_type": "code",
   "execution_count": 56,
   "metadata": {},
   "outputs": [],
   "source": [
    "# the difference in the length of the first two gives us \n",
    "# the first day in 2019, and we need to go back 90 days to get the necessary range\n",
    "inputs = dataset_total[len(dataset_total) - len(dataset_test) - 90:].values"
   ]
  },
  {
   "cell_type": "code",
   "execution_count": 57,
   "metadata": {},
   "outputs": [
    {
     "data": {
      "text/plain": [
       "112"
      ]
     },
     "execution_count": 57,
     "metadata": {},
     "output_type": "execute_result"
    }
   ],
   "source": [
    "# Displaying the amount of rows in the inputs array\n",
    "inputs.size"
   ]
  },
  {
   "cell_type": "code",
   "execution_count": 58,
   "metadata": {},
   "outputs": [],
   "source": [
    "# Reshaping the inputs array\n",
    "inputs = inputs.reshape(-1,1) \n",
    "\n",
    "# apply the feature scaler\n",
    "inputs = sc.transform(inputs)"
   ]
  },
  {
   "cell_type": "markdown",
   "metadata": {},
   "source": [
    "1. For each price in August 2019 we need the **immediate 90 values** before it. \n",
    "2. We have 22 prices in August;\n",
    "3. We need a numpy 3D array of 90 prices (columns) times 22 days (rows) times 1 dependent variable "
   ]
  },
  {
   "cell_type": "code",
   "execution_count": 59,
   "metadata": {},
   "outputs": [],
   "source": [
    "# Getting the predicted stock price of 2019 August\n",
    "X_test = []"
   ]
  },
  {
   "cell_type": "code",
   "execution_count": 60,
   "metadata": {},
   "outputs": [],
   "source": [
    "# the first 90 from inputs are from training set; start \n",
    "# from 90 and get the extra 22, i.e. up to 112\n",
    "for i in range(90, 112): \n",
    "    X_test.append(inputs[i-90:i, 0])\n"
   ]
  },
  {
   "cell_type": "code",
   "execution_count": 61,
   "metadata": {},
   "outputs": [],
   "source": [
    "# Turning X_test into a numpy array\n",
    "X_test = np.array(X_test) # not 3D structure yet"
   ]
  },
  {
   "cell_type": "code",
   "execution_count": 62,
   "metadata": {},
   "outputs": [],
   "source": [
    "# create a 3D structure\n",
    "X_test = np.reshape(X_test, (X_test.shape[0], X_test.shape[1], 1))"
   ]
  },
  {
   "cell_type": "code",
   "execution_count": 63,
   "metadata": {},
   "outputs": [],
   "source": [
    "# The task to predict a dependent variable value (y) based on a given independent variable (x) is given\n",
    "predicted_stock_price = regressor.predict(X_test)"
   ]
  },
  {
   "cell_type": "code",
   "execution_count": 64,
   "metadata": {},
   "outputs": [
    {
     "data": {
      "text/plain": [
       "22"
      ]
     },
     "execution_count": 64,
     "metadata": {},
     "output_type": "execute_result"
    }
   ],
   "source": [
    "# need to inverse the scaling to get meaningful predicted stock price # outputs\n",
    "# displaying the amount of rows in the predicted_stock_price array\n",
    "predicted_stock_price = sc.inverse_transform(predicted_stock_price) \n",
    "predicted_stock_price.size"
   ]
  },
  {
   "cell_type": "markdown",
   "metadata": {},
   "source": [
    "### Result Visualization\n"
   ]
  },
  {
   "cell_type": "code",
   "execution_count": 65,
   "metadata": {},
   "outputs": [
    {
     "data": {
      "image/png": "[encoded data removed]",
      "text/plain": [
       "<Figure size 432x288 with 1 Axes>"
      ]
     },
     "metadata": {
      "needs_background": "light"
     },
     "output_type": "display_data"
    }
   ],
   "source": [
    "# Visualising the results\n",
    "\n",
    "plt.plot(real_stock_price, color = 'red', label = 'Real Exxon Mobil Stock Price')\n",
    "\n",
    "plt.plot(predicted_stock_price, color = 'blue', label = 'Predicted Exxon Mobil Stock Price')\n",
    "\n",
    "plt.title('Exxon Mobil Stock Price Prediction')\n",
    "plt.xlabel('Time')\n",
    "plt.ylabel('Exxon Mobil Stock Price')\n",
    "plt.legend()\n",
    "\n",
    "plt.show()"
   ]
  },
  {
   "cell_type": "markdown",
   "metadata": {},
   "source": [
    "The blue line shows the trend of the stock for the month of August 2019. \n",
    "\n",
    "Some observations:\n",
    "- The prediction is a bit delayed (by a few days)\n",
    "- If you don't mind the delay, the prediction is pretty accurate"
   ]
  },
  {
   "cell_type": "markdown",
   "metadata": {},
   "source": [
    "### Compute the RMSE\n",
    "\n",
    "If we need to compute the RMSE for our Stock Price Prediction problem, we use the real stock price and predicted stock price as shown.\n",
    "\n",
    "Then consider dividing this RMSE by the range of the Exxon Mobil Stock Price values of August 2019 to get a relative error, as opposed to an absolute error. \n"
   ]
  },
  {
   "cell_type": "code",
   "execution_count": 66,
   "metadata": {},
   "outputs": [],
   "source": [
    "#import the libraries\n",
    "import math\n",
    "from sklearn.metrics import mean_squared_error"
   ]
  },
  {
   "cell_type": "code",
   "execution_count": 67,
   "metadata": {},
   "outputs": [
    {
     "data": {
      "text/plain": [
       "1.1307706463511715"
      ]
     },
     "execution_count": 67,
     "metadata": {},
     "output_type": "execute_result"
    }
   ],
   "source": [
    "rmse = math.sqrt( mean_squared_error( real_stock_price[0:22,:], predicted_stock_price))\n",
    "rmse"
   ]
  },
  {
   "cell_type": "markdown",
   "metadata": {},
   "source": [
    "### Conclusion\n"
   ]
  },
  {
   "cell_type": "markdown",
   "metadata": {},
   "source": [
    "All in all, this little project I've done was an interesting experience. Even though, the results weren't as good as I wanted them to be(should've tinkered more with the LSTMs and the amount of neurons in them, but was hard to do, due to long wait times), I still think that this experience will help me in my future career."
   ]
  },
  {
   "cell_type": "code",
   "execution_count": null,
   "metadata": {},
   "outputs": [],
   "source": []
  }
 ],
 "metadata": {
  "kernelspec": {
   "display_name": "Python 3",
   "language": "python",
   "name": "python3"
  },
  "language_info": {
   "codemirror_mode": {
    "name": "ipython",
    "version": 3
   },
   "file_extension": ".py",
   "mimetype": "text/x-python",
   "name": "python",
   "nbconvert_exporter": "python",
   "pygments_lexer": "ipython3",
   "version": "3.7.3"
  }
 },
 "nbformat": 4,
 "nbformat_minor": 2
}
